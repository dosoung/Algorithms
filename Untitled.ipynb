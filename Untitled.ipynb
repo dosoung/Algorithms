{
 "cells": [
  {
   "cell_type": "markdown",
   "metadata": {},
   "source": [
    "# CRC 구현"
   ]
  },
  {
   "cell_type": "code",
   "execution_count": 1,
   "metadata": {},
   "outputs": [
    {
     "name": "stdout",
     "output_type": "stream",
     "text": [
      "1 번째 테스트\n",
      "dataword를 입력해주세요: 11110101011\n",
      "divisor 1101\n",
      "remainder 011\n",
      "codeword 11110101011011\n",
      "최종 나머지 000\n",
      "에러 없이 전달 되었습니다.\n",
      "================================\n",
      "2 번째 테스트\n",
      "dataword를 입력해주세요: 1111111111\n",
      "divisor 1101\n",
      "remainder 011\n",
      "codeword 1111111111011\n",
      "최종 나머지 000\n",
      "에러 없이 전달 되었습니다.\n",
      "================================\n",
      "3 번째 테스트\n",
      "dataword를 입력해주세요: 10101010101\n",
      "divisor 1101\n",
      "remainder 011\n",
      "codeword 10101010101011\n",
      "최종 나머지 000\n",
      "에러 없이 전달 되었습니다.\n",
      "================================\n",
      "4 번째 테스트\n",
      "dataword를 입력해주세요: 10100101010\n",
      "divisor 1101\n",
      "remainder 011\n",
      "codeword 10100101010011\n",
      "최종 나머지 000\n",
      "에러 없이 전달 되었습니다.\n",
      "================================\n",
      "5 번째 테스트\n",
      "dataword를 입력해주세요: 010101010111\n",
      "divisor 1101\n",
      "remainder 000\n",
      "codeword 010101010111000\n",
      "최종 나머지 000\n",
      "에러 없이 전달 되었습니다.\n",
      "================================\n"
     ]
    }
   ],
   "source": [
    "\n",
    "\n",
    "divisor = '1101'\n",
    "\n",
    "\n",
    "#인코더 부분 divisor의 최고차항 만큼 0을 dataword에 붙인다.\n",
    "\n",
    "for i in range(5):\n",
    "    print(i+1, '번째 테스트')\n",
    "    dataword=str(input('dataword를 입력해주세요: '))\n",
    "\n",
    "    print('divisor',divisor)\n",
    "    codeword = dataword + ((len(divisor)-1) * '0')\n",
    "\n",
    "    length_divisor = len(divisor)\n",
    "    remainder = codeword\n",
    "\n",
    "    # divisor로 codeword를 나누면서 remainder를 구한다.\n",
    "    while(len(remainder) >= length_divisor):\n",
    "        final=''\n",
    "        for i in range(len(divisor)):\n",
    "            if(int(dataword[0]) == 1):\n",
    "                result = (int(remainder[i]) ^ int(divisor[i]))\n",
    "            else:\n",
    "                divisor = '0000'\n",
    "                result = (int(remainder[i]) ^ int(divisor[i]))\n",
    "            final +=str(result)\n",
    "        remainder = final[1:] +remainder[len(divisor):]\n",
    "\n",
    "    #최종적으로 구한 remainder를 dataword에 연결하여 codeword를 만든다.\n",
    "    codeword = dataword+remainder\n",
    "    print('remainder',remainder)\n",
    "    print('codeword',codeword)\n",
    "    #decode부분\n",
    "\n",
    "    while(len(codeword) >= length_divisor):\n",
    "        final=''\n",
    "        for i in range(len(divisor)):\n",
    "            if(int(dataword[0]) == 1):\n",
    "                result = (int(codeword[i]) ^ int(divisor[i]))\n",
    "            else:\n",
    "                divisor = '0000'\n",
    "                result = (int(codeword[i]) ^ int(divisor[i]))\n",
    "            final +=str(result)\n",
    "        codeword = final[1:] +codeword[len(divisor):]\n",
    "\n",
    "    print(\"최종 나머지\", codeword)\n",
    "\n",
    "#나머지가 0 으로 나오는 것이 아니면 에러가 발생 아닐때는 정상적으로 전달 완료.\n",
    "    if(codeword in '1'):\n",
    "        print('전달과정 중 에러가 발생하였습니다.')\n",
    "    else:\n",
    "        print('에러 없이 전달 되었습니다.')\n",
    "    print(\"================================\")"
   ]
  },
  {
   "cell_type": "markdown",
   "metadata": {},
   "source": [
    "# checksum 구현"
   ]
  },
  {
   "cell_type": "code",
   "execution_count": 4,
   "metadata": {},
   "outputs": [
    {
     "name": "stdout",
     "output_type": "stream",
     "text": [
      "16진수 인풋 입력:4D 53 53 70\n",
      "0xa0c3\n",
      "16 bit 합계: 0xa0c3\n",
      "1의 보수: 5f3c\n",
      "체크섬 검증하기 위한 인풋:4D 53 53 70\n",
      "16bit합계 그룹: a0c3\n",
      "No Error\n",
      "16진수 인풋 입력:4D 53 53 70\n",
      "0xa0c3\n",
      "16 bit 합계: 0xa0c3\n",
      "1의 보수: 5f3c\n",
      "체크섬 검증하기 위한 인풋:4D 53 53 70\n",
      "16bit합계 그룹: a0c3\n",
      "No Error\n",
      "16진수 인풋 입력:4D 53 53 70\n",
      "0xa0c3\n",
      "16 bit 합계: 0xa0c3\n",
      "1의 보수: 5f3c\n",
      "체크섬 검증하기 위한 인풋:4D 53 53 70\n",
      "16bit합계 그룹: a0c3\n",
      "No Error\n",
      "16진수 인풋 입력:4D 53 53 12\n",
      "0xa065\n",
      "16 bit 합계: 0xa065\n",
      "1의 보수: 5f9a\n",
      "체크섬 검증하기 위한 인풋:4D 53 53 70\n",
      "16bit합계 그룹: a0c3\n",
      "No Error\n",
      "16진수 인풋 입력:4D 53 53 70\n",
      "0xa0c3\n",
      "16 bit 합계: 0xa0c3\n",
      "1의 보수: 5f3c\n",
      "체크섬 검증하기 위한 인풋:12\n",
      "16bit합계 그룹: 12\n",
      "No Error\n"
     ]
    }
   ],
   "source": [
    "for i in range(5):\n",
    "        \n",
    "    #이부분은 checksum을 만드는 부분입니다.\n",
    "    hexinput = '0x'+input('16진수 인풋 입력:') #인풋을 받는 부분입니다.\n",
    "    hexinput = \"\".join(hexinput.split())\n",
    "    quads = [int(hexinput[i:i+4],16) for i in range(2, len(hexinput), 4)]\n",
    "    sumstuff = hex(sum(quads)) \n",
    "    print(sumstuff)\n",
    "    if len(sumstuff) > 6: #자리수에 맞춰서 계산합니다.\n",
    "        manip = str(sumstuff)\n",
    "        sumstuff = hex(int(manip[2],16)+int(manip[3:],16))\n",
    "    print(\"16 bit 합계: \" + sumstuff)\n",
    "    print(\"1의 보수: \" + hex(int(sumstuff,16) ^ 0xffff)[2:])\n",
    "\n",
    "    #이부분은 checksum을 검토하는 부분입니다. \n",
    "    hexinput = '0x'+input('체크섬 검증하기 위한 인풋:')\n",
    "    hexinput = \"\".join(hexinput.split())\n",
    "    quads = [int(hexinput[i:i+4],16) for i in range(2, len(hexinput), 4)]\n",
    "    sumstuff = sum(quads)\n",
    "    if len(hex(sumstuff)) > 6: #같은 방식으로 진행합니다.\n",
    "        manip = str(hex(sumstuff))\n",
    "        sumstuff = int(manip[2],16)+int(manip[3:],16)\n",
    "\n",
    "    print(\"16bit합계 그룹: \"+ (hex(sumstuff))[2:])\n",
    "    if str((hex(sumstuff))[2:]) == 'ffff' :\n",
    "        print(\"Error\")\n",
    "    else:\n",
    "        print(\"No Error\")"
   ]
  },
  {
   "cell_type": "code",
   "execution_count": 25,
   "metadata": {},
   "outputs": [
    {
     "name": "stdout",
     "output_type": "stream",
     "text": [
      "Input hex checksum to verify:4D 53 53 70\n",
      "Sum of 16bit groups is: a0c3\n",
      "Error\n"
     ]
    }
   ],
   "source": []
  },
  {
   "cell_type": "code",
   "execution_count": null,
   "metadata": {},
   "outputs": [],
   "source": []
  }
 ],
 "metadata": {
  "kernelspec": {
   "display_name": "Python 3",
   "language": "python",
   "name": "python3"
  },
  "language_info": {
   "codemirror_mode": {
    "name": "ipython",
    "version": 3
   },
   "file_extension": ".py",
   "mimetype": "text/x-python",
   "name": "python",
   "nbconvert_exporter": "python",
   "pygments_lexer": "ipython3",
   "version": "3.7.6"
  }
 },
 "nbformat": 4,
 "nbformat_minor": 4
}
