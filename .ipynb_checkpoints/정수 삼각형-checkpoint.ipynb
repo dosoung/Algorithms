{
 "cells": [
  {
   "cell_type": "code",
   "execution_count": 23,
   "metadata": {},
   "outputs": [
    {
     "name": "stdout",
     "output_type": "stream",
     "text": [
      "5\n",
      "7\n",
      "3 8\n",
      "8 1 0\n",
      "2 7 4 4\n",
      "4 5 2 6 5\n"
     ]
    }
   ],
   "source": []
  },
  {
   "cell_type": "code",
   "execution_count": 32,
   "metadata": {},
   "outputs": [
    {
     "name": "stdout",
     "output_type": "stream",
     "text": [
      "5\n",
      "7\n",
      "3 8\n",
      "8 1 0\n",
      "2 7 4 4\n",
      "4 5 2 6 5\n",
      "30\n"
     ]
    }
   ],
   "source": [
    "number = int(input())\n",
    "triangle =[]\n",
    "for i in range(number):\n",
    "    triangle.append(list(map(int,input().split())))\n",
    "\n",
    "k=2\n",
    "for i in range(1,len(triangle)):\n",
    "    for j in range(k):\n",
    "        if(j==0):\n",
    "            triangle[i][j] = triangle[i][j] + triangle[i-1][j]\n",
    "        elif(i==j):\n",
    "            triangle[i][j] = triangle[i][j] + triangle[i-1][j-1]\n",
    "        else:\n",
    "            triangle[i][j] = max(triangle[i][j]  +triangle[i-1][j], triangle[i][j] + triangle[i-1][j-1])\n",
    "    k+=1\n",
    "print(max(triangle[number-1]))"
   ]
  },
  {
   "cell_type": "code",
   "execution_count": 31,
   "metadata": {},
   "outputs": [
    {
     "data": {
      "text/plain": [
       "30"
      ]
     },
     "execution_count": 31,
     "metadata": {},
     "output_type": "execute_result"
    }
   ],
   "source": []
  },
  {
   "cell_type": "code",
   "execution_count": null,
   "metadata": {},
   "outputs": [],
   "source": []
  }
 ],
 "metadata": {
  "kernelspec": {
   "display_name": "Python 3",
   "language": "python",
   "name": "python3"
  },
  "language_info": {
   "codemirror_mode": {
    "name": "ipython",
    "version": 3
   },
   "file_extension": ".py",
   "mimetype": "text/x-python",
   "name": "python",
   "nbconvert_exporter": "python",
   "pygments_lexer": "ipython3",
   "version": "3.7.6"
  }
 },
 "nbformat": 4,
 "nbformat_minor": 4
}
