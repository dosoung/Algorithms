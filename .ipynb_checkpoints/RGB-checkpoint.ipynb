{
 "cells": [
  {
   "cell_type": "code",
   "execution_count": null,
   "metadata": {},
   "outputs": [],
   "source": [
    "n = int(input())\n",
    "p = []\n",
    "for i in range(n):\n",
    "    p.append(list(map(int, input().split())))\n",
    "for i in range(1, len(p)):\n",
    "    p[i][0] = min(p[i - 1][1], p[i - 1][2]) + p[i][0]\n",
    "    p[i][1] = min(p[i - 1][0], p[i - 1][2]) + p[i][1]\n",
    "    p[i][2] = min(p[i - 1][0], p[i - 1][1]) + p[i][2]\n",
    "print(min(p[n - 1][0], p[n - 1][1], p[n - 1][2]))"
   ]
  }
 ],
 "metadata": {
  "kernelspec": {
   "display_name": "Python 3",
   "language": "python",
   "name": "python3"
  },
  "language_info": {
   "codemirror_mode": {
    "name": "ipython",
    "version": 3
   },
   "file_extension": ".py",
   "mimetype": "text/x-python",
   "name": "python",
   "nbconvert_exporter": "python",
   "pygments_lexer": "ipython3",
   "version": "3.7.6"
  }
 },
 "nbformat": 4,
 "nbformat_minor": 4
}
