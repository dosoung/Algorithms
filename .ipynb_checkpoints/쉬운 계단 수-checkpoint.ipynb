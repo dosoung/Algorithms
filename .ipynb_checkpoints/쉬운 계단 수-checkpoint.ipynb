{
 "cells": [
  {
   "cell_type": "code",
   "execution_count": 44,
   "metadata": {},
   "outputs": [
    {
     "name": "stdout",
     "output_type": "stream",
     "text": [
      "2\n",
      "17\n"
     ]
    }
   ],
   "source": [
    "n = int(input())\n",
    "\n",
    "dp = [[0 for i in range(10)] for j in range(101)] \n",
    "for i in range(1,10):\n",
    "    dp[1][i] = 1\n",
    "    \n",
    "for i in range(2,n+1):\n",
    "    for j in range(10):\n",
    "        if(j == 0):\n",
    "            dp[i][j] = dp[i-1][1]\n",
    "        elif(j == 9):\n",
    "            dp[i][j] = dp[i-1][8]\n",
    "        else:\n",
    "            dp[i][j] = dp[i-1][j-1] + dp[i-1][j+1]\n",
    "            \n",
    "print(sum(dp[n]) % 1000000000)"
   ]
  },
  {
   "cell_type": "markdown",
   "metadata": {},
   "source": [
    "# Solve"
   ]
  },
  {
   "cell_type": "markdown",
   "metadata": {},
   "source": [
    "<p>1의 자리가 0이 올 수 있는 경우는 1의 자리 앞이 1이여만 하고,<br>\n",
    "1의 자리가 9가 올 수 있는 경우는 1의 자리 앞이 8이여만 한다.\n",
    "\n",
    "<p>위의 예외를 제외하고는 1의 자리 앞의 수의 -1의 갯수와 +1의 갯수를 더한 값임을 알 수 있다.\n"
   ]
  }
 ],
 "metadata": {
  "kernelspec": {
   "display_name": "Python 3",
   "language": "python",
   "name": "python3"
  },
  "language_info": {
   "codemirror_mode": {
    "name": "ipython",
    "version": 3
   },
   "file_extension": ".py",
   "mimetype": "text/x-python",
   "name": "python",
   "nbconvert_exporter": "python",
   "pygments_lexer": "ipython3",
   "version": "3.7.6"
  }
 },
 "nbformat": 4,
 "nbformat_minor": 4
}
