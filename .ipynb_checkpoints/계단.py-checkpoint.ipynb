{
 "cells": [
  {
   "cell_type": "code",
   "execution_count": 88,
   "metadata": {},
   "outputs": [
    {
     "name": "stdout",
     "output_type": "stream",
     "text": [
      "3\n",
      "10\n",
      "20\n",
      "15\n",
      "35\n"
     ]
    }
   ],
   "source": [
    "n = int(input())\n",
    "for i in range(n):\n",
    "    s[i] = int(input())\n",
    "dp = [0 for i in range(n)]\n",
    "if(n == 1):\n",
    "    print(s[0])\n",
    "elif(n == 2):\n",
    "    print(s[0]+s[1])\n",
    "else:\n",
    "    dp[0] = s[0]\n",
    "    dp[1] = s[0] + s[1]\n",
    "    dp[2] = max(s[1] + s[2], s[0] + s[2])\n",
    "    for i in range(3, n):\n",
    "        dp[i] = max(dp[i - 3] + s[i - 1] + s[i], dp[i - 2] + s[i])\n",
    "    print(dp[n - 1])"
   ]
  },
  {
   "cell_type": "code",
   "execution_count": 85,
   "metadata": {},
   "outputs": [
    {
     "data": {
      "text/plain": [
       "[10, 30, 35, 55, 65, 75]"
      ]
     },
     "execution_count": 85,
     "metadata": {},
     "output_type": "execute_result"
    }
   ],
   "source": [
    "dp"
   ]
  },
  {
   "cell_type": "code",
   "execution_count": null,
   "metadata": {},
   "outputs": [],
   "source": []
  }
 ],
 "metadata": {
  "kernelspec": {
   "display_name": "Python 3",
   "language": "python",
   "name": "python3"
  },
  "language_info": {
   "codemirror_mode": {
    "name": "ipython",
    "version": 3
   },
   "file_extension": ".py",
   "mimetype": "text/x-python",
   "name": "python",
   "nbconvert_exporter": "python",
   "pygments_lexer": "ipython3",
   "version": "3.7.6"
  }
 },
 "nbformat": 4,
 "nbformat_minor": 4
}
