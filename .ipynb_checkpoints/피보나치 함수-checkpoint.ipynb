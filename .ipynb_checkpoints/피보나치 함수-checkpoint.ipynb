{
 "cells": [
  {
   "cell_type": "code",
   "execution_count": 1,
   "metadata": {},
   "outputs": [
    {
     "name": "stdout",
     "output_type": "stream",
     "text": [
      "3\n",
      "01\n",
      "1\n",
      "3\n",
      "0 1\n",
      "0 1\n",
      "1 2\n"
     ]
    }
   ],
   "source": [
    "count = int(input())\n",
    "\n",
    "number = []\n",
    "for i in range(count):\n",
    "    number.append(int(input()))\n",
    "    \n",
    "result = [0] * (max(number)+1)\n",
    "# result[0] = [1,0]\n",
    "for i in range(len(result)):\n",
    "    if(i == 0):\n",
    "        result[0] = [1,0]\n",
    "    elif(i == 1):\n",
    "        result[1] = [0,1]\n",
    "    else:\n",
    "        result[i] = [result[i-2][0] + result[i-1][0], result[i-2][1] + result[i-1][1]]\n",
    "\n",
    "for i in number:\n",
    "    print(' '.join(map(str,result[i])))\n",
    "        "
   ]
  }
 ],
 "metadata": {
  "kernelspec": {
   "display_name": "Python 3",
   "language": "python",
   "name": "python3"
  },
  "language_info": {
   "codemirror_mode": {
    "name": "ipython",
    "version": 3
   },
   "file_extension": ".py",
   "mimetype": "text/x-python",
   "name": "python",
   "nbconvert_exporter": "python",
   "pygments_lexer": "ipython3",
   "version": "3.7.6"
  }
 },
 "nbformat": 4,
 "nbformat_minor": 4
}
