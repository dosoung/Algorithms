{
 "cells": [
  {
   "cell_type": "code",
   "execution_count": 42,
   "metadata": {},
   "outputs": [
    {
     "name": "stdout",
     "output_type": "stream",
     "text": [
      "2\n",
      "-7 6\n",
      "0 0 0 1\n",
      "-1\n",
      "-1\n"
     ]
    }
   ],
   "source": [
    "max_result = -1000000001\n",
    "min_result = 1000000001\n",
    "\n",
    "n = int(input())\n",
    "\n",
    "number = list(map(int,input().split()))     #숫자 종류\n",
    "calculate = list(map(int,input().split()))  #덧셈,뺄셈,곱셈,나눗셈 개수 \n",
    "\n",
    "def cal(depth,result,n):\n",
    "    global max_result\n",
    "    global min_result\n",
    "\n",
    "    if(depth == n):\n",
    "        max_result = max(max_result,result)\n",
    "        min_result = min(min_result,result)\n",
    "        return \n",
    "\n",
    "    for i in range(len(calculate)):\n",
    "        temp = int(result)\n",
    "        if(calculate[i] !=0 ):\n",
    "            calculate[i]-=1\n",
    "            if(i == 0):\n",
    "                result += number[depth]\n",
    "            elif(i == 1):\n",
    "                result -= number[depth]\n",
    "            elif(i == 2):\n",
    "                result *= number[depth]\n",
    "            elif(i==3):\n",
    "                if(result <0):\n",
    "                    result = -((-result)//number[depth])\n",
    "                    \n",
    "                else:\n",
    "                    result //= number[depth]\n",
    "            cal(depth+1,result,n)\n",
    "            result = temp\n",
    "            calculate[i]+=1\n",
    "            \n",
    "cal(1,number[0],n)\n",
    "print(max_result)\n",
    "print(min_result)"
   ]
  },
  {
   "cell_type": "code",
   "execution_count": null,
   "metadata": {},
   "outputs": [],
   "source": []
  },
  {
   "cell_type": "code",
   "execution_count": null,
   "metadata": {},
   "outputs": [],
   "source": []
  }
 ],
 "metadata": {
  "kernelspec": {
   "display_name": "Python 3",
   "language": "python",
   "name": "python3"
  },
  "language_info": {
   "codemirror_mode": {
    "name": "ipython",
    "version": 3
   },
   "file_extension": ".py",
   "mimetype": "text/x-python",
   "name": "python",
   "nbconvert_exporter": "python",
   "pygments_lexer": "ipython3",
   "version": "3.7.6"
  }
 },
 "nbformat": 4,
 "nbformat_minor": 4
}
