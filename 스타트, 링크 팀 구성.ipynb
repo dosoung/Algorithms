{
 "cells": [
  {
   "cell_type": "code",
   "execution_count": 1,
   "metadata": {},
   "outputs": [
    {
     "name": "stdout",
     "output_type": "stream",
     "text": [
      "4\n",
      "0 1 2 3\n",
      "1 2 3 4\n",
      "0 2 3 4\n",
      "1 0 3 5\n",
      "1\n"
     ]
    }
   ],
   "source": [
    "\n",
    "number = int(input())\n",
    "arr = []\n",
    "for i in range(number):\n",
    "    arr.append(list(map(int, input().split())))\n",
    "\n",
    "\n",
    "check_list = [False] * number\n",
    "result = 9999999999\n",
    "\n",
    "def BackTracking(depth,num,index):\n",
    "    global result\n",
    "    if(depth == num/2):\n",
    "        teamA=[]\n",
    "        teamB=[]\n",
    "        for i in range(len(check_list)):\n",
    "            if(check_list[i]):\n",
    "                teamA.append(i)\n",
    "            else:\n",
    "                teamB.append(i)\n",
    "        teamAresult = 0\n",
    "        teamBresult = 0\n",
    "        for i in range(len(check_list)):\n",
    "            if i in teamA:\n",
    "                for j in range(len(check_list)):\n",
    "                    if ((j in teamA) and (i!=j)):\n",
    "                        teamAresult += arr[i][j]\n",
    "            elif i in teamB:\n",
    "                for j in range(len(check_list)):\n",
    "                    if(j in teamB and (i!=j)):\n",
    "                        teamBresult +=arr[i][j]\n",
    "\n",
    "        temp = abs(teamAresult - teamBresult)\n",
    "        if(temp<result):\n",
    "            result = temp\n",
    "        return\n",
    "    \n",
    "    for i in range(index,len(arr)):\n",
    "        index = i+1\n",
    "        if(not check_list[i]):\n",
    "            check_list[i] = True\n",
    "            BackTracking(depth+1,num,index)\n",
    "            check_list[i] = False\n",
    "            \n",
    "        \n",
    "BackTracking(0,number,0)\n",
    "print(result)"
   ]
  },
  {
   "cell_type": "code",
   "execution_count": null,
   "metadata": {},
   "outputs": [],
   "source": []
  }
 ],
 "metadata": {
  "kernelspec": {
   "display_name": "Python 3",
   "language": "python",
   "name": "python3"
  },
  "language_info": {
   "codemirror_mode": {
    "name": "ipython",
    "version": 3
   },
   "file_extension": ".py",
   "mimetype": "text/x-python",
   "name": "python",
   "nbconvert_exporter": "python",
   "pygments_lexer": "ipython3",
   "version": "3.7.6"
  }
 },
 "nbformat": 4,
 "nbformat_minor": 4
}
