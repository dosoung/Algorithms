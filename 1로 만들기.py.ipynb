{
 "cells": [
  {
   "cell_type": "code",
   "execution_count": 116,
   "metadata": {},
   "outputs": [
    {
     "name": "stdout",
     "output_type": "stream",
     "text": [
      "6\n",
      "dp [0, 0, 1, 0, 0, 0, 0]\n",
      "dp [0, 0, 1, 2, 0, 0, 0]\n",
      "dp [0, 0, 1, 2, 2, 0, 0]\n",
      "dp [0, 0, 1, 2, 2, 3, 0]\n",
      "dp [0, 0, 1, 2, 2, 3, 3]\n"
     ]
    },
    {
     "data": {
      "text/plain": [
       "3"
      ]
     },
     "execution_count": 116,
     "metadata": {},
     "output_type": "execute_result"
    }
   ],
   "source": [
    "number = int(input())\n",
    "\n",
    "dp = [0 for i in range(number+1)]\n",
    "\n",
    "for i in range(1,number+1):\n",
    "    if(i == 1):\n",
    "        dp[i] =0\n",
    "        continue\n",
    "    dp[i] = dp[i-1] +1\n",
    "    if(i % 3 == 0 and dp[i//3] +1 <dp[i]):\n",
    "        dp[i] = dp[i//3] +1\n",
    "    if(i % 2 == 0 and dp[i//2] +1 < dp[i]): \n",
    "        dp[i] = dp[i//2] +1\n",
    "        \n",
    "print(dp[number])"
   ]
  }
 ],
 "metadata": {
  "kernelspec": {
   "display_name": "Python 3",
   "language": "python",
   "name": "python3"
  },
  "language_info": {
   "codemirror_mode": {
    "name": "ipython",
    "version": 3
   },
   "file_extension": ".py",
   "mimetype": "text/x-python",
   "name": "python",
   "nbconvert_exporter": "python",
   "pygments_lexer": "ipython3",
   "version": "3.7.6"
  }
 },
 "nbformat": 4,
 "nbformat_minor": 4
}
