{
 "cells": [
  {
   "cell_type": "code",
   "execution_count": 3,
   "metadata": {},
   "outputs": [
    {
     "name": "stdout",
     "output_type": "stream",
     "text": [
      "9\n",
      "adsfadsf 0\n",
      "adsfadsf 1\n",
      "adsfadsf 1\n",
      "[0, 0, 1, 1, 2, 3, 2, 3, 3, 2]\n"
     ]
    }
   ],
   "source": [
    "number = int(input())\n",
    "\n",
    "dp = [0 for i in range(number+1)]\n",
    "\n",
    "for i in range(1,number+1):\n",
    "    if(i == 1):\n",
    "        dp[i] =0\n",
    "        continue\n",
    "    dp[i] = dp[i-1] +1\n",
    "    if(i % 3 == 0 and dp[i//3] +1 <dp[i]):\n",
    "        print(\"adsfadsf\", dp[i//3])\n",
    "        dp[i] = dp[i//3] +1\n",
    "    if(i % 2 == 0 and dp[i//2] +1 < dp[i]): \n",
    "        dp[i] = dp[i//2] +1\n",
    "        \n",
    "print(dp)"
   ]
  },
  {
   "cell_type": "code",
   "execution_count": null,
   "metadata": {},
   "outputs": [],
   "source": []
  }
 ],
 "metadata": {
  "kernelspec": {
   "display_name": "Python 3",
   "language": "python",
   "name": "python3"
  },
  "language_info": {
   "codemirror_mode": {
    "name": "ipython",
    "version": 3
   },
   "file_extension": ".py",
   "mimetype": "text/x-python",
   "name": "python",
   "nbconvert_exporter": "python",
   "pygments_lexer": "ipython3",
   "version": "3.7.6"
  }
 },
 "nbformat": 4,
 "nbformat_minor": 4
}
